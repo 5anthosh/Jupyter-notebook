{
 "cells": [
  {
   "cell_type": "code",
   "execution_count": 5,
   "metadata": {
    "collapsed": true
   },
   "outputs": [],
   "source": [
    "from sklearn import  tree "
   ]
  },
  {
   "cell_type": "code",
   "execution_count": 11,
   "metadata": {
    "collapsed": true
   },
   "outputs": [],
   "source": [
    "features = [[140,1],[130,1],[150,0],[170,0]]\n",
    "labels = [0,0,1,1]"
   ]
  },
  {
   "cell_type": "code",
   "execution_count": 7,
   "metadata": {
    "collapsed": true
   },
   "outputs": [],
   "source": [
    "clf = tree.DecisionTreeClassifier()"
   ]
  },
  {
   "cell_type": "code",
   "execution_count": 8,
   "metadata": {
    "collapsed": true
   },
   "outputs": [],
   "source": [
    "clf = clf.fit(features, labels)"
   ]
  },
  {
   "cell_type": "code",
   "execution_count": 10,
   "metadata": {},
   "outputs": [
    {
     "data": {
      "text/plain": [
       "array([0])"
      ]
     },
     "execution_count": 10,
     "metadata": {},
     "output_type": "execute_result"
    }
   ],
   "source": [
    "clf.predict([[145,1]])"
   ]
  },
  {
   "cell_type": "code",
   "execution_count": 44,
   "metadata": {},
   "outputs": [
    {
     "data": {
      "text/plain": [
       "'from sklearn.externals.six import StringIO\\ndot_data = StringIO()\\ntree.export_graphviz(clf, out_file=dot_data, \\n                         feature_names=iris.feature_names,  \\n                         class_names=iris.target_names,  \\n                         filled=True, rounded=True,  \\n                         impurity = False)  \\ngraph = pydot.graph_from_dot_data(dot_data.getvalue())\\nprint(graph.write_pdf)'"
      ]
     },
     "execution_count": 44,
     "metadata": {},
     "output_type": "execute_result"
    }
   ],
   "source": [
    "from sklearn.datasets import load_iris\n",
    "from sklearn import tree\n",
    "import numpy as np\n",
    "import pydot\n",
    "iris = load_iris()\n",
    "test_idx = [0, 50, 100]\n",
    "train_target = np.delete(iris.target,test_idx)\n",
    "train_data = np.delete(iris.data,test_idx)\n",
    "test_target = iris.target[test_idx]\n",
    "test_data = iris.data[test_idx]\n",
    "clf = tree.DecisionTreeClassifier()\n",
    "clf = clf.fit(iris.data,iris.target)\n",
    "clf.predict(test_data)\n",
    "\"\"\"from sklearn.externals.six import StringIO\n",
    "dot_data = StringIO()\n",
    "tree.export_graphviz(clf, out_file=dot_data, \n",
    "                         feature_names=iris.feature_names,  \n",
    "                         class_names=iris.target_names,  \n",
    "                         filled=True, rounded=True,  \n",
    "                         impurity = False)  \n",
    "graph = pydot.graph_from_dot_data(dot_data.getvalue())\n",
    "print(graph.write_pdf)\"\"\""
   ]
  },
  {
   "cell_type": "code",
   "execution_count": 79,
   "metadata": {},
   "outputs": [
    {
     "name": "stdout",
     "output_type": "stream",
     "text": [
      "[0 0 0 2 0 1 1 1 0 1 0 2 0 1 1 1 2 0 2 0 2 2 1 2 2 2 0 2 0 2 2 1 1 1 1 1 2\n",
      " 1 0 0 0 1 1 1 1 2 2 1 1 1 0 1 1 0 0 1 0 0 0 0 2 1 1 1 2 0 0 0 0 2 2 0 1 2\n",
      " 2]\n",
      "0.986666666667\n"
     ]
    }
   ],
   "source": [
    "from sklearn import datasets, tree\n",
    "iris = datasets.load_iris()\n",
    "x = iris.data\n",
    "y = iris.target\n",
    "from sklearn.cross_validation import train_test_split\n",
    "x_train,x_test,y_train,y_test = train_test_split(x,y,test_size = .5)\n",
    "cfs = tree.DecisionTreeClassifier()\n",
    "cfs =  cfs.fit(x_train,y_train)\n",
    "preditions = cfs.predict(x_test)\n",
    "print(preditions)\n",
    "from sklearn.metrics import accuracy_score\n",
    "print (accuracy_score(y_test, preditions))"
   ]
  },
  {
   "cell_type": "code",
   "execution_count": 80,
   "metadata": {},
   "outputs": [
    {
     "name": "stdout",
     "output_type": "stream",
     "text": [
      "[0 0 0 2 0 1 1 1 0 1 0 2 0 1 2 1 2 0 2 0 2 2 1 2 2 2 0 2 0 2 2 1 1 1 1 1 2\n",
      " 2 0 0 0 1 1 1 1 2 2 1 1 1 0 1 1 0 0 1 0 0 0 0 2 1 1 1 2 0 0 0 0 2 2 0 1 2\n",
      " 2]\n",
      "0.986666666667\n"
     ]
    }
   ],
   "source": [
    "from sklearn.neighbors import KNeighborsClassifier\n",
    "cfs = KNeighborsClassifier()\n",
    "cfs =  cfs.fit(x_train,y_train)\n",
    "preditions = cfs.predict(x_test)\n",
    "print(preditions)\n",
    "from sklearn.metrics import accuracy_score\n",
    "print (accuracy_score(y_test, preditions))"
   ]
  },
  {
   "cell_type": "code",
   "execution_count": 90,
   "metadata": {},
   "outputs": [
    {
     "name": "stdout",
     "output_type": "stream",
     "text": [
      "[0, 0, 0, 2, 0, 1, 1, 1, 0, 1, 0, 2, 0, 1, 2, 1, 2, 0, 2, 0, 2, 2, 1, 2, 2, 2, 0, 2, 0, 2, 2, 1, 1, 1, 1, 1, 2, 1, 0, 0, 0, 1, 1, 1, 1, 2, 2, 1, 1, 1, 0, 1, 1, 0, 0, 1, 0, 0, 0, 0, 2, 1, 1, 1, 2, 0, 0, 0, 0, 2, 2, 0, 1, 2, 2]\n",
      "[0, 0, 0, 2, 0, 1, 1, 1, 0, 1, 0, 2, 0, 1, 2, 1, 2, 0, 2, 0, 2, 2, 1, 2, 2, 2, 0, 2, 0, 2, 2, 1, 1, 1, 1, 1, 2, 1, 0, 0, 0, 1, 1, 1, 1, 2, 2, 1, 1, 1, 0, 1, 1, 0, 0, 1, 0, 0, 0, 0, 2, 1, 1, 1, 2, 0, 0, 0, 0, 2, 2, 0, 1, 2, 2]\n",
      "0.973333333333\n"
     ]
    }
   ],
   "source": [
    "from scipy.spatial import distance\n",
    "def euc(a,b):\n",
    "    return distance.euclidean(a,b)\n",
    "class Scrapyy():\n",
    "    def fit(self, x_train, y_train):\n",
    "        self.x_train = x_train\n",
    "        self.y_train = y_train\n",
    "    def predict(self,x_test):\n",
    "        predictions = []\n",
    "        for row in x_test:\n",
    "            label = self.closest(row)\n",
    "            predictions.append(label)\n",
    "        print(predictions)\n",
    "        return predictions\n",
    "    def closest(self, row):\n",
    "        best_dis = euc(row, self.x_train[0])\n",
    "        best_index = 0\n",
    "        for i in range(1,len(self.x_train)):\n",
    "            dist = euc(row, self.x_train[i])\n",
    "            if dist < best_dis:\n",
    "                best_dis = dist\n",
    "                best_index = i\n",
    "        return self.y_train[best_index]\n",
    "cfs = Scrapyy()\n",
    "cfs.fit(x_train,y_train)\n",
    "preditions = cfs.predict(x_test)\n",
    "print(preditions)\n",
    "from sklearn.metrics import accuracy_score\n",
    "print (accuracy_score(y_test, preditions))"
   ]
  },
  {
   "cell_type": "code",
   "execution_count": null,
   "metadata": {
    "collapsed": true
   },
   "outputs": [],
   "source": []
  }
 ],
 "metadata": {
  "kernelspec": {
   "display_name": "Python 3",
   "language": "python",
   "name": "python3"
  },
  "language_info": {
   "codemirror_mode": {
    "name": "ipython",
    "version": 3
   },
   "file_extension": ".py",
   "mimetype": "text/x-python",
   "name": "python",
   "nbconvert_exporter": "python",
   "pygments_lexer": "ipython3",
   "version": "3.6.2"
  }
 },
 "nbformat": 4,
 "nbformat_minor": 2
}
