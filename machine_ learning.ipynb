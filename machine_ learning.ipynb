{
 "cells": [
  {
   "cell_type": "code",
   "execution_count": 5,
   "metadata": {
    "collapsed": true
   },
   "outputs": [],
   "source": [
    "from sklearn import  tree "
   ]
  },
  {
   "cell_type": "code",
   "execution_count": 11,
   "metadata": {
    "collapsed": true
   },
   "outputs": [],
   "source": [
    "features = [[140,1],[130,1],[150,0],[170,0]]\n",
    "labels = [0,0,1,1]"
   ]
  },
  {
   "cell_type": "code",
   "execution_count": 7,
   "metadata": {
    "collapsed": true
   },
   "outputs": [],
   "source": [
    "clf = tree.DecisionTreeClassifier()"
   ]
  },
  {
   "cell_type": "code",
   "execution_count": 8,
   "metadata": {
    "collapsed": true
   },
   "outputs": [],
   "source": [
    "clf = clf.fit(features, labels)"
   ]
  },
  {
   "cell_type": "code",
   "execution_count": 10,
   "metadata": {},
   "outputs": [
    {
     "data": {
      "text/plain": [
       "array([0])"
      ]
     },
     "execution_count": 10,
     "metadata": {},
     "output_type": "execute_result"
    }
   ],
   "source": [
    "clf.predict([[145,1]])"
   ]
  },
  {
   "cell_type": "code",
   "execution_count": 44,
   "metadata": {},
   "outputs": [
    {
     "data": {
      "text/plain": [
       "'from sklearn.externals.six import StringIO\\ndot_data = StringIO()\\ntree.export_graphviz(clf, out_file=dot_data, \\n                         feature_names=iris.feature_names,  \\n                         class_names=iris.target_names,  \\n                         filled=True, rounded=True,  \\n                         impurity = False)  \\ngraph = pydot.graph_from_dot_data(dot_data.getvalue())\\nprint(graph.write_pdf)'"
      ]
     },
     "execution_count": 44,
     "metadata": {},
     "output_type": "execute_result"
    }
   ],
   "source": [
    "from sklearn.datasets import load_iris\n",
    "from sklearn import tree\n",
    "import numpy as np\n",
    "import pydot\n",
    "iris = load_iris()\n",
    "test_idx = [0, 50, 100]\n",
    "train_target = np.delete(iris.target,test_idx)\n",
    "train_data = np.delete(iris.data,test_idx)\n",
    "test_target = iris.target[test_idx]\n",
    "test_data = iris.data[test_idx]\n",
    "clf = tree.DecisionTreeClassifier()\n",
    "clf = clf.fit(iris.data,iris.target)\n",
    "clf.predict(test_data)\n",
    "\"\"\"from sklearn.externals.six import StringIO\n",
    "dot_data = StringIO()\n",
    "tree.export_graphviz(clf, out_file=dot_data, \n",
    "                         feature_names=iris.feature_names,  \n",
    "                         class_names=iris.target_names,  \n",
    "                         filled=True, rounded=True,  \n",
    "                         impurity = False)  \n",
    "graph = pydot.graph_from_dot_data(dot_data.getvalue())\n",
    "print(graph.write_pdf)\"\"\""
   ]
  }
 ],
 "metadata": {
  "kernelspec": {
   "display_name": "Python 3",
   "language": "python",
   "name": "python3"
  },
  "language_info": {
   "codemirror_mode": {
    "name": "ipython",
    "version": 3
   },
   "file_extension": ".py",
   "mimetype": "text/x-python",
   "name": "python",
   "nbconvert_exporter": "python",
   "pygments_lexer": "ipython3",
   "version": "3.6.2"
  }
 },
 "nbformat": 4,
 "nbformat_minor": 2
}
